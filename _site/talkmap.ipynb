{
 "cells": [
  {
   "cell_type": "markdown",
   "metadata": {},
   "source": [
    "# Leaflet cluster map of talk locations\n",
    "\n",
    "Run this from the _talks/ directory, which contains .md files of all your talks. This scrapes the location YAML field from each .md file, geolocates it with geopy/Nominatim, and uses the getorg library to output data, HTML, and Javascript for a standalone cluster map."
   ]
  },
  {
   "cell_type": "code",
   "execution_count": 1,
   "metadata": {
    "collapsed": false,
    "jupyter": {
     "outputs_hidden": false
    }
   },
   "outputs": [
    {
     "name": "stdout",
     "output_type": "stream",
     "text": [
      "Requirement already satisfied: getorg in /Users/chengnie/.pyenv/versions/3.9.6/envs/py96/lib/python3.9/site-packages (0.3.1)\n",
      "Requirement already satisfied: pygithub in /Users/chengnie/.pyenv/versions/3.9.6/envs/py96/lib/python3.9/site-packages (from getorg) (1.55)\n",
      "Requirement already satisfied: retrying in /Users/chengnie/.pyenv/versions/3.9.6/envs/py96/lib/python3.9/site-packages (from getorg) (1.3.3)\n",
      "Requirement already satisfied: geopy in /Users/chengnie/.pyenv/versions/3.9.6/envs/py96/lib/python3.9/site-packages (from getorg) (2.2.0)\n",
      "Requirement already satisfied: geographiclib<2,>=1.49 in /Users/chengnie/.pyenv/versions/3.9.6/envs/py96/lib/python3.9/site-packages (from geopy->getorg) (1.52)\n",
      "Requirement already satisfied: pyjwt>=2.0 in /Users/chengnie/.pyenv/versions/3.9.6/envs/py96/lib/python3.9/site-packages (from pygithub->getorg) (2.3.0)\n",
      "Requirement already satisfied: requests>=2.14.0 in /Users/chengnie/.pyenv/versions/3.9.6/envs/py96/lib/python3.9/site-packages (from pygithub->getorg) (2.26.0)\n",
      "Requirement already satisfied: deprecated in /Users/chengnie/.pyenv/versions/3.9.6/envs/py96/lib/python3.9/site-packages (from pygithub->getorg) (1.2.13)\n",
      "Requirement already satisfied: pynacl>=1.4.0 in /Users/chengnie/.pyenv/versions/3.9.6/envs/py96/lib/python3.9/site-packages (from pygithub->getorg) (1.4.0)\n",
      "Requirement already satisfied: six in /Users/chengnie/.pyenv/versions/3.9.6/envs/py96/lib/python3.9/site-packages (from pynacl>=1.4.0->pygithub->getorg) (1.16.0)\n",
      "Requirement already satisfied: cffi>=1.4.1 in /Users/chengnie/.pyenv/versions/3.9.6/envs/py96/lib/python3.9/site-packages (from pynacl>=1.4.0->pygithub->getorg) (1.14.6)\n",
      "Requirement already satisfied: pycparser in /Users/chengnie/.pyenv/versions/3.9.6/envs/py96/lib/python3.9/site-packages (from cffi>=1.4.1->pynacl>=1.4.0->pygithub->getorg) (2.20)\n",
      "Requirement already satisfied: certifi>=2017.4.17 in /Users/chengnie/.pyenv/versions/3.9.6/envs/py96/lib/python3.9/site-packages (from requests>=2.14.0->pygithub->getorg) (2021.5.30)\n",
      "Requirement already satisfied: urllib3<1.27,>=1.21.1 in /Users/chengnie/.pyenv/versions/3.9.6/envs/py96/lib/python3.9/site-packages (from requests>=2.14.0->pygithub->getorg) (1.26.6)\n",
      "Requirement already satisfied: idna<4,>=2.5 in /Users/chengnie/.pyenv/versions/3.9.6/envs/py96/lib/python3.9/site-packages (from requests>=2.14.0->pygithub->getorg) (3.2)\n",
      "Requirement already satisfied: charset-normalizer~=2.0.0 in /Users/chengnie/.pyenv/versions/3.9.6/envs/py96/lib/python3.9/site-packages (from requests>=2.14.0->pygithub->getorg) (2.0.4)\n",
      "Requirement already satisfied: wrapt<2,>=1.10 in /Users/chengnie/.pyenv/versions/3.9.6/envs/py96/lib/python3.9/site-packages (from deprecated->pygithub->getorg) (1.13.3)\n",
      "\u001b[33mWARNING: You are using pip version 21.2.2; however, version 21.3.1 is available.\n",
      "You should consider upgrading via the '/Users/chengnie/.pyenv/versions/3.9.6/envs/py96/bin/python3.9 -m pip install --upgrade pip' command.\u001b[0m\n",
      "IPywidgets and ipyleaflet support enabled.\n"
     ]
    }
   ],
   "source": [
    "!pip install getorg --upgrade\n",
    "import glob\n",
    "import getorg\n",
    "from geopy import Nominatim"
   ]
  },
  {
   "cell_type": "code",
   "execution_count": 7,
   "metadata": {
    "collapsed": false,
    "jupyter": {
     "outputs_hidden": false
    }
   },
   "outputs": [],
   "source": [
    "g = glob.glob(\"_talks/*.md\")"
   ]
  },
  {
   "cell_type": "code",
   "execution_count": 8,
   "metadata": {
    "tags": []
   },
   "outputs": [],
   "source": [
    "geocoder = Nominatim(user_agent=\"https\")\n",
    "location_dict = {}\n",
    "location = \"\"\n",
    "permalink = \"\"\n",
    "title = \"\""
   ]
  },
  {
   "cell_type": "code",
   "execution_count": 12,
   "metadata": {
    "collapsed": false,
    "jupyter": {
     "outputs_hidden": false
    }
   },
   "outputs": [
    {
     "name": "stdout",
     "output_type": "stream",
     "text": [
      "Los Angeles, CA\n",
      "Los Angeles, CA \n",
      " Los Angeles, Los Angeles County, California, United States\n",
      "London, UK\n",
      "London, UK \n",
      " London, Greater London, England, SW1A 2DX, United Kingdom\n",
      "Berkeley CA, USA\n",
      "Berkeley CA, USA \n",
      " University of California, Berkeley, Shattuck Avenue, LeConte, Berkeley, Alameda County, California, 95704, United States\n",
      "Boston, MA\n",
      "Boston, MA \n",
      " Boston, Suffolk County, Massachusetts, 02102, United States\n",
      "San Francisco, California\n",
      "San Francisco, California \n",
      " San Francisco, City and County of San Francisco, California, 94102, United States\n"
     ]
    }
   ],
   "source": [
    "\n",
    "for file in g:\n",
    "    with open(file, 'r') as f:\n",
    "        lines = f.read()\n",
    "        if lines.find('location: \"') > 1:\n",
    "            loc_start = lines.find('location: \"') + 11\n",
    "            lines_trim = lines[loc_start:]\n",
    "            loc_end = lines_trim.find('\"')\n",
    "            location = lines_trim[:loc_end]\n",
    "            print(location)\n",
    "                            \n",
    "           \n",
    "        location_dict[location] = geocoder.geocode(location)\n",
    "        print(location, \"\\n\", location_dict[location])\n"
   ]
  },
  {
   "cell_type": "code",
   "execution_count": null,
   "metadata": {},
   "outputs": [],
   "source": [
    "# https://github.com/staeiou/staeiou.github.io/blob/master/talkmap.ipynb\n",
    "for file in g:\n",
    "    data = frontmatter.load(file)\n",
    "    data_dict = data.to_dict()\n",
    "    location = data_dict['location']\n",
    "    if location[-4:] == \", CA\":\n",
    "        location = location[:-3] + \" California\"\n",
    "    \n",
    "    descript_name = location + \" | \" + data_dict['venue'] + \" | \" + data_dict['title']\n",
    "    location_dict[descript_name] = geocoder.geocode(location)\n",
    "    print(descript_name, \"\\n\", location, \"\\n\", location_dict[location], \"\\n\\n\")"
   ]
  },
  {
   "cell_type": "code",
   "execution_count": 10,
   "metadata": {
    "collapsed": false,
    "jupyter": {
     "outputs_hidden": false
    }
   },
   "outputs": [
    {
     "data": {
      "text/plain": [
       "'Written map to ../talkmap_new/'"
      ]
     },
     "execution_count": 10,
     "metadata": {},
     "output_type": "execute_result"
    }
   ],
   "source": [
    "m = getorg.orgmap.create_map_obj()\n",
    "getorg.orgmap.output_html_cluster_map(location_dict, folder_name=\"../talkmap_new\", hashed_usernames=False)"
   ]
  },
  {
   "cell_type": "code",
   "execution_count": null,
   "metadata": {
    "collapsed": true,
    "jupyter": {
     "outputs_hidden": true
    }
   },
   "outputs": [],
   "source": []
  }
 ],
 "metadata": {
  "anaconda-cloud": {},
  "kernelspec": {
   "display_name": "Python 3 (ipykernel)",
   "language": "python",
   "name": "python3"
  },
  "language_info": {
   "codemirror_mode": {
    "name": "ipython",
    "version": 3
   },
   "file_extension": ".py",
   "mimetype": "text/x-python",
   "name": "python",
   "nbconvert_exporter": "python",
   "pygments_lexer": "ipython3",
   "version": "3.9.6"
  }
 },
 "nbformat": 4,
 "nbformat_minor": 4
}
